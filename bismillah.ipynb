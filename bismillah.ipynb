{
 "cells": [
  {
   "cell_type": "code",
   "execution_count": 8,
   "metadata": {},
   "outputs": [],
   "source": [
    "import pandas as pd\n",
    "import seaborn as sns\n",
    "import matplotlib.pyplot as plt\n",
    "\n",
    "# Ganti 'nama_file.csv' dengan nama file yang sesuai\n",
    "data = pd.read_csv('dataset-spx.csv')\n",
    "\n",
    "# Pilih kolom yang akan dihitung korelasinya\n",
    "kolom_numerik = data[['Original ASF', 'Rounding ASF']]\n",
    "\n",
    "# Pilih kolom kategorikal yang ingin diencode (misalnya 'Payment Method' dan 'Channel')\n",
    "kolom_kategorikal = data[['Payment Method', 'Channel', 'Order ID', 'SLS Tracking Number', \n",
    "                          'Shopee Order SN', 'Sort Code Name', 'SOC Received time', \n",
    "                          'OnHoldReason', 'Status', 'Order Account', 'Payment Method',\n",
    "                          'Pickup Station', 'Destination Station', 'Next Station']]\n",
    "\n",
    "# Lakukan one-hot encoding pada kolom kategorikal\n",
    "encoded_kategorikal = pd.get_dummies(kolom_kategorikal)\n",
    "\n",
    "# Gabungkan kolom numerik dengan kolom kategorikal yang sudah diencode\n",
    "data_gabungan = pd.concat([kolom_numerik, encoded_kategorikal], axis=1)\n",
    "\n",
    "# Hitung matriks korelasi\n",
    "matriks_korelasi = data_gabungan.corr()\n",
    "\n",
    "# Buat heatmap menggunakan seaborn\n",
    "plt.figure(figsize=(10, 8))\n",
    "sns.heatmap(matriks_korelasi, annot=True, cmap='coolwarm', fmt=\".2f\")\n",
    "plt.title('Heatmap Matriks Korelasi')\n",
    "plt.show()\n"
   ]
  },
  {
   "cell_type": "code",
   "execution_count": 7,
   "metadata": {},
   "outputs": [
    {
     "name": "stdout",
     "output_type": "stream",
     "text": [
      "Collecting seaborn\n",
      "  Using cached seaborn-0.13.0-py3-none-any.whl.metadata (5.3 kB)\n",
      "Requirement already satisfied: numpy!=1.24.0,>=1.20 in d:\\aisyah\\kuliah\\semester 3\\data mining\\tugas\\project-ta\\virtual\\lib\\site-packages (from seaborn) (1.26.2)\n",
      "Requirement already satisfied: pandas>=1.2 in d:\\aisyah\\kuliah\\semester 3\\data mining\\tugas\\project-ta\\virtual\\lib\\site-packages (from seaborn) (2.1.4)\n",
      "Requirement already satisfied: matplotlib!=3.6.1,>=3.3 in d:\\aisyah\\kuliah\\semester 3\\data mining\\tugas\\project-ta\\virtual\\lib\\site-packages (from seaborn) (3.8.2)\n",
      "Requirement already satisfied: contourpy>=1.0.1 in d:\\aisyah\\kuliah\\semester 3\\data mining\\tugas\\project-ta\\virtual\\lib\\site-packages (from matplotlib!=3.6.1,>=3.3->seaborn) (1.2.0)\n",
      "Requirement already satisfied: cycler>=0.10 in d:\\aisyah\\kuliah\\semester 3\\data mining\\tugas\\project-ta\\virtual\\lib\\site-packages (from matplotlib!=3.6.1,>=3.3->seaborn) (0.12.1)\n",
      "Requirement already satisfied: fonttools>=4.22.0 in d:\\aisyah\\kuliah\\semester 3\\data mining\\tugas\\project-ta\\virtual\\lib\\site-packages (from matplotlib!=3.6.1,>=3.3->seaborn) (4.46.0)\n",
      "Requirement already satisfied: kiwisolver>=1.3.1 in d:\\aisyah\\kuliah\\semester 3\\data mining\\tugas\\project-ta\\virtual\\lib\\site-packages (from matplotlib!=3.6.1,>=3.3->seaborn) (1.4.5)\n",
      "Requirement already satisfied: packaging>=20.0 in d:\\aisyah\\kuliah\\semester 3\\data mining\\tugas\\project-ta\\virtual\\lib\\site-packages (from matplotlib!=3.6.1,>=3.3->seaborn) (23.2)\n",
      "Requirement already satisfied: pillow>=8 in d:\\aisyah\\kuliah\\semester 3\\data mining\\tugas\\project-ta\\virtual\\lib\\site-packages (from matplotlib!=3.6.1,>=3.3->seaborn) (10.1.0)\n",
      "Requirement already satisfied: pyparsing>=2.3.1 in d:\\aisyah\\kuliah\\semester 3\\data mining\\tugas\\project-ta\\virtual\\lib\\site-packages (from matplotlib!=3.6.1,>=3.3->seaborn) (3.1.1)\n",
      "Requirement already satisfied: python-dateutil>=2.7 in d:\\aisyah\\kuliah\\semester 3\\data mining\\tugas\\project-ta\\virtual\\lib\\site-packages (from matplotlib!=3.6.1,>=3.3->seaborn) (2.8.2)\n",
      "Requirement already satisfied: pytz>=2020.1 in d:\\aisyah\\kuliah\\semester 3\\data mining\\tugas\\project-ta\\virtual\\lib\\site-packages (from pandas>=1.2->seaborn) (2023.3.post1)\n",
      "Requirement already satisfied: tzdata>=2022.1 in d:\\aisyah\\kuliah\\semester 3\\data mining\\tugas\\project-ta\\virtual\\lib\\site-packages (from pandas>=1.2->seaborn) (2023.3)\n",
      "Requirement already satisfied: six>=1.5 in d:\\aisyah\\kuliah\\semester 3\\data mining\\tugas\\project-ta\\virtual\\lib\\site-packages (from python-dateutil>=2.7->matplotlib!=3.6.1,>=3.3->seaborn) (1.16.0)\n",
      "Using cached seaborn-0.13.0-py3-none-any.whl (294 kB)\n",
      "Installing collected packages: seaborn\n",
      "Successfully installed seaborn-0.13.0\n",
      "Note: you may need to restart the kernel to use updated packages.\n"
     ]
    },
    {
     "name": "stderr",
     "output_type": "stream",
     "text": [
      "\n",
      "[notice] A new release of pip is available: 23.3.1 -> 23.3.2\n",
      "[notice] To update, run: python.exe -m pip install --upgrade pip\n"
     ]
    }
   ],
   "source": [
    "pip install seaborn"
   ]
  }
 ],
 "metadata": {
  "kernelspec": {
   "display_name": "virtual",
   "language": "python",
   "name": "python3"
  },
  "language_info": {
   "codemirror_mode": {
    "name": "ipython",
    "version": 3
   },
   "file_extension": ".py",
   "mimetype": "text/x-python",
   "name": "python",
   "nbconvert_exporter": "python",
   "pygments_lexer": "ipython3",
   "version": "3.11.7"
  }
 },
 "nbformat": 4,
 "nbformat_minor": 2
}
